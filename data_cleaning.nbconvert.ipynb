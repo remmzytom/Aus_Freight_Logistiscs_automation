{
 "cells": [
  {
   "cell_type": "markdown",
   "metadata": {},
   "source": [
    "### Australian Freight Export Data Cleaning\n",
    "##### Data Cleaning and Preprocessing for 2024-2025 Export Data\n",
    "\n",
    "This notebook focuses on cleaning and preprocessing the ABS export data before analysis.\n"
   ]
  },
  {
   "cell_type": "code",
   "execution_count": 1,
   "metadata": {
    "execution": {
     "iopub.execute_input": "2025-10-31T00:21:22.573386Z",
     "iopub.status.busy": "2025-10-31T00:21:22.573386Z",
     "iopub.status.idle": "2025-10-31T00:21:24.322159Z",
     "shell.execute_reply": "2025-10-31T00:21:24.322159Z"
    }
   },
   "outputs": [
    {
     "name": "stdout",
     "output_type": "stream",
     "text": [
      "Requirement already satisfied: pyspark in c:\\users\\remmz\\appdata\\local\\programs\\python\\python311\\lib\\site-packages (4.0.1)\n",
      "Requirement already satisfied: py4j==0.10.9.9 in c:\\users\\remmz\\appdata\\local\\programs\\python\\python311\\lib\\site-packages (from pyspark) (0.10.9.9)\n",
      "Note: you may need to restart the kernel to use updated packages.\n"
     ]
    },
    {
     "name": "stderr",
     "output_type": "stream",
     "text": [
      "\n",
      "[notice] A new release of pip is available: 25.2 -> 25.3\n",
      "[notice] To update, run: python.exe -m pip install --upgrade pip\n"
     ]
    },
    {
     "name": "stderr",
     "output_type": "stream",
     "text": [
      "'java' is not recognized as an internal or external command,\n",
      "operable program or batch file.\n"
     ]
    },
    {
     "name": "stderr",
     "output_type": "stream",
     "text": [
      "'grep' is not recognized as an internal or external command,\n",
      "operable program or batch file.\n"
     ]
    }
   ],
   "source": [
    "# Install PySpark (run this first!)\n",
    "%pip install pyspark\n",
    "\n",
    "# Check if Java is installed (required for Spark)\n",
    "!java -version\n",
    "\n",
    "# Check Python packages\n",
    "!pip list | grep spark\n"
   ]
  },
  {
   "cell_type": "code",
   "execution_count": 2,
   "metadata": {
    "execution": {
     "iopub.execute_input": "2025-10-31T00:21:24.324163Z",
     "iopub.status.busy": "2025-10-31T00:21:24.324163Z",
     "iopub.status.idle": "2025-10-31T00:21:28.198990Z",
     "shell.execute_reply": "2025-10-31T00:21:28.196985Z"
    }
   },
   "outputs": [],
   "source": [
    "# Import required libraries\n",
    "import pandas as pd\n",
    "import numpy as np\n",
    "import matplotlib.pyplot as plt\n",
    "import seaborn as sns\n",
    "from datetime import datetime\n",
    "import warnings\n",
    "warnings.filterwarnings('ignore')\n"
   ]
  },
  {
   "cell_type": "code",
   "execution_count": 3,
   "metadata": {
    "execution": {
     "iopub.execute_input": "2025-10-31T00:21:28.198990Z",
     "iopub.status.busy": "2025-10-31T00:21:28.198990Z",
     "iopub.status.idle": "2025-10-31T00:21:28.207399Z",
     "shell.execute_reply": "2025-10-31T00:21:28.207399Z"
    }
   },
   "outputs": [],
   "source": [
    "#set display options for better viewing\n",
    "pd.set_option('display.max_columns', None)\n",
    "pd.set_option('display.max_rows', 100)\n",
    "pd.set_option('display.width', None)\n",
    "pd.set_option('display.max_colwidth', 50)\n"
   ]
  },
  {
   "cell_type": "code",
   "execution_count": 4,
   "metadata": {
    "execution": {
     "iopub.execute_input": "2025-10-31T00:21:28.207399Z",
     "iopub.status.busy": "2025-10-31T00:21:28.207399Z",
     "iopub.status.idle": "2025-10-31T00:21:28.215996Z",
     "shell.execute_reply": "2025-10-31T00:21:28.215996Z"
    }
   },
   "outputs": [],
   "source": [
    "# Check original product descriptions BEFORE any processing\n"
   ]
  },
  {
   "cell_type": "markdown",
   "metadata": {},
   "source": [
    "#### 1. Data Loading\n"
   ]
  },
  {
   "cell_type": "code",
   "execution_count": 5,
   "metadata": {
    "execution": {
     "iopub.execute_input": "2025-10-31T00:21:28.215996Z",
     "iopub.status.busy": "2025-10-31T00:21:28.215996Z",
     "iopub.status.idle": "2025-10-31T00:21:35.006442Z",
     "shell.execute_reply": "2025-10-31T00:21:35.004437Z"
    }
   },
   "outputs": [
    {
     "name": "stdout",
     "output_type": "stream",
     "text": [
      "Dataset loaded successfully!\n",
      "Shape: (1479965, 18)\n",
      "Columns: ['month', 'sitc_code', 'sitc', 'country_of_destination_code', 'country_of_destination', 'port_of_discharge_code', 'port_of_discharge', 'state_of_origin_code', 'state_of_origin', 'port_of_loading_code', 'port_of_loading', 'mode_of_transport_code', 'mode_of_transport', 'unit_of_quantity', 'quantity', 'gross_weight_tonnes', 'value_fob_aud', 'year']\n"
     ]
    }
   ],
   "source": [
    "# Load the export data\n",
    "df = pd.read_csv('data/exports_2024_2025.csv')\n",
    "\n",
    "print(f\"Dataset loaded successfully!\")\n",
    "print(f\"Shape: {df.shape}\")\n",
    "print(f\"Columns: {list(df.columns)}\")\n",
    "\n"
   ]
  },
  {
   "cell_type": "code",
   "execution_count": 6,
   "metadata": {
    "execution": {
     "iopub.execute_input": "2025-10-31T00:21:35.010450Z",
     "iopub.status.busy": "2025-10-31T00:21:35.008447Z",
     "iopub.status.idle": "2025-10-31T00:21:35.043384Z",
     "shell.execute_reply": "2025-10-31T00:21:35.043384Z"
    }
   },
   "outputs": [
    {
     "data": {
      "text/html": [
       "<div>\n",
       "<style scoped>\n",
       "    .dataframe tbody tr th:only-of-type {\n",
       "        vertical-align: middle;\n",
       "    }\n",
       "\n",
       "    .dataframe tbody tr th {\n",
       "        vertical-align: top;\n",
       "    }\n",
       "\n",
       "    .dataframe thead th {\n",
       "        text-align: right;\n",
       "    }\n",
       "</style>\n",
       "<table border=\"1\" class=\"dataframe\">\n",
       "  <thead>\n",
       "    <tr style=\"text-align: right;\">\n",
       "      <th></th>\n",
       "      <th>month</th>\n",
       "      <th>sitc_code</th>\n",
       "      <th>sitc</th>\n",
       "      <th>country_of_destination_code</th>\n",
       "      <th>country_of_destination</th>\n",
       "      <th>port_of_discharge_code</th>\n",
       "      <th>port_of_discharge</th>\n",
       "      <th>state_of_origin_code</th>\n",
       "      <th>state_of_origin</th>\n",
       "      <th>port_of_loading_code</th>\n",
       "      <th>port_of_loading</th>\n",
       "      <th>mode_of_transport_code</th>\n",
       "      <th>mode_of_transport</th>\n",
       "      <th>unit_of_quantity</th>\n",
       "      <th>quantity</th>\n",
       "      <th>gross_weight_tonnes</th>\n",
       "      <th>value_fob_aud</th>\n",
       "      <th>year</th>\n",
       "    </tr>\n",
       "  </thead>\n",
       "  <tbody>\n",
       "    <tr>\n",
       "      <th>0</th>\n",
       "      <td>January 2024</td>\n",
       "      <td>76421</td>\n",
       "      <td>Microphones and stands therefor</td>\n",
       "      <td>NZ</td>\n",
       "      <td>New Zealand</td>\n",
       "      <td>554100</td>\n",
       "      <td>Auckland</td>\n",
       "      <td>1</td>\n",
       "      <td>New South Wales</td>\n",
       "      <td>101</td>\n",
       "      <td>Sydney</td>\n",
       "      <td>S</td>\n",
       "      <td>SEA</td>\n",
       "      <td>Number</td>\n",
       "      <td>1598.0</td>\n",
       "      <td>1.17700</td>\n",
       "      <td>128687.0</td>\n",
       "      <td>2024</td>\n",
       "    </tr>\n",
       "    <tr>\n",
       "      <th>1</th>\n",
       "      <td>January 2024</td>\n",
       "      <td>76421</td>\n",
       "      <td>Microphones and stands therefor</td>\n",
       "      <td>NZ</td>\n",
       "      <td>New Zealand</td>\n",
       "      <td>554100</td>\n",
       "      <td>Auckland</td>\n",
       "      <td>2</td>\n",
       "      <td>Victoria</td>\n",
       "      <td>201</td>\n",
       "      <td>Melbourne</td>\n",
       "      <td>A</td>\n",
       "      <td>AIR</td>\n",
       "      <td>Number</td>\n",
       "      <td>25.0</td>\n",
       "      <td>0.12808</td>\n",
       "      <td>25013.0</td>\n",
       "      <td>2024</td>\n",
       "    </tr>\n",
       "    <tr>\n",
       "      <th>2</th>\n",
       "      <td>January 2024</td>\n",
       "      <td>76421</td>\n",
       "      <td>Microphones and stands therefor</td>\n",
       "      <td>NZ</td>\n",
       "      <td>New Zealand</td>\n",
       "      <td>554100</td>\n",
       "      <td>Auckland</td>\n",
       "      <td>F</td>\n",
       "      <td>Re-exports</td>\n",
       "      <td>201</td>\n",
       "      <td>Melbourne</td>\n",
       "      <td>S</td>\n",
       "      <td>SEA</td>\n",
       "      <td>Number</td>\n",
       "      <td>8.0</td>\n",
       "      <td>0.04920</td>\n",
       "      <td>492.0</td>\n",
       "      <td>2024</td>\n",
       "    </tr>\n",
       "  </tbody>\n",
       "</table>\n",
       "</div>"
      ],
      "text/plain": [
       "          month  sitc_code                             sitc  \\\n",
       "0  January 2024      76421  Microphones and stands therefor   \n",
       "1  January 2024      76421  Microphones and stands therefor   \n",
       "2  January 2024      76421  Microphones and stands therefor   \n",
       "\n",
       "  country_of_destination_code country_of_destination  port_of_discharge_code  \\\n",
       "0                          NZ            New Zealand                  554100   \n",
       "1                          NZ            New Zealand                  554100   \n",
       "2                          NZ            New Zealand                  554100   \n",
       "\n",
       "  port_of_discharge state_of_origin_code  state_of_origin  \\\n",
       "0          Auckland                    1  New South Wales   \n",
       "1          Auckland                    2         Victoria   \n",
       "2          Auckland                    F       Re-exports   \n",
       "\n",
       "   port_of_loading_code port_of_loading mode_of_transport_code  \\\n",
       "0                   101          Sydney                      S   \n",
       "1                   201       Melbourne                      A   \n",
       "2                   201       Melbourne                      S   \n",
       "\n",
       "  mode_of_transport unit_of_quantity  quantity  gross_weight_tonnes  \\\n",
       "0               SEA           Number    1598.0              1.17700   \n",
       "1               AIR           Number      25.0              0.12808   \n",
       "2               SEA           Number       8.0              0.04920   \n",
       "\n",
       "   value_fob_aud  year  \n",
       "0       128687.0  2024  \n",
       "1        25013.0  2024  \n",
       "2          492.0  2024  "
      ]
     },
     "execution_count": 6,
     "metadata": {},
     "output_type": "execute_result"
    }
   ],
   "source": [
    "df.head(3)"
   ]
  },
  {
   "cell_type": "markdown",
   "metadata": {},
   "source": [
    "#### 2. Initial Data Exploration\n"
   ]
  },
  {
   "cell_type": "code",
   "execution_count": 7,
   "metadata": {
    "execution": {
     "iopub.execute_input": "2025-10-31T00:21:35.043384Z",
     "iopub.status.busy": "2025-10-31T00:21:35.043384Z",
     "iopub.status.idle": "2025-10-31T00:21:35.915784Z",
     "shell.execute_reply": "2025-10-31T00:21:35.915784Z"
    }
   },
   "outputs": [
    {
     "name": "stdout",
     "output_type": "stream",
     "text": [
      "=== DATASET OVERVIEW ===\n",
      "Total records: 1,479,965\n",
      "Total columns: 18\n",
      "\n",
      "=== COLUMN INFORMATION ===\n"
     ]
    },
    {
     "name": "stdout",
     "output_type": "stream",
     "text": [
      "<class 'pandas.core.frame.DataFrame'>\n",
      "RangeIndex: 1479965 entries, 0 to 1479964\n",
      "Data columns (total 18 columns):\n",
      " #   Column                       Non-Null Count    Dtype  \n",
      "---  ------                       --------------    -----  \n",
      " 0   month                        1479965 non-null  object \n",
      " 1   sitc_code                    1479965 non-null  int64  \n",
      " 2   sitc                         1479965 non-null  object \n",
      " 3   country_of_destination_code  1479965 non-null  object \n",
      " 4   country_of_destination       1479965 non-null  object \n",
      " 5   port_of_discharge_code       1479965 non-null  int64  \n",
      " 6   port_of_discharge            1479965 non-null  object \n",
      " 7   state_of_origin_code         1479965 non-null  object \n",
      " 8   state_of_origin              1479965 non-null  object \n",
      " 9   port_of_loading_code         1479965 non-null  int64  \n",
      " 10  port_of_loading              1479965 non-null  object \n",
      " 11  mode_of_transport_code       1479965 non-null  object \n",
      " 12  mode_of_transport            1479965 non-null  object \n",
      " 13  unit_of_quantity             1479965 non-null  object \n",
      " 14  quantity                     1479965 non-null  float64\n",
      " 15  gross_weight_tonnes          1479965 non-null  float64\n",
      " 16  value_fob_aud                1479965 non-null  float64\n",
      " 17  year                         1479965 non-null  int64  \n",
      "dtypes: float64(3), int64(4), object(11)\n",
      "memory usage: 203.2+ MB\n",
      "None\n"
     ]
    }
   ],
   "source": [
    "# Basic information about the dataset\n",
    "print(\"=== DATASET OVERVIEW ===\")\n",
    "print(f\"Total records: {len(df):,}\")\n",
    "print(f\"Total columns: {len(df.columns)}\")\n",
    "\n",
    "print(\"\\n=== COLUMN INFORMATION ===\")\n",
    "print(df.info())\n"
   ]
  },
  {
   "cell_type": "code",
   "execution_count": 8,
   "metadata": {
    "execution": {
     "iopub.execute_input": "2025-10-31T00:21:35.915784Z",
     "iopub.status.busy": "2025-10-31T00:21:35.915784Z",
     "iopub.status.idle": "2025-10-31T00:21:36.851671Z",
     "shell.execute_reply": "2025-10-31T00:21:36.851671Z"
    }
   },
   "outputs": [
    {
     "name": "stdout",
     "output_type": "stream",
     "text": [
      "=== MISSING VALUES ===\n"
     ]
    },
    {
     "name": "stdout",
     "output_type": "stream",
     "text": [
      "No missing values found!\n"
     ]
    }
   ],
   "source": [
    "# Check for missing values\n",
    "print(\"=== MISSING VALUES ===\")\n",
    "missing_data = df.isnull().sum()\n",
    "missing_percent = (missing_data / len(df)) * 100\n",
    "\n",
    "# Check if any missing values exist\n",
    "if missing_data.sum() == 0:\n",
    "    print(\"No missing values found!\")\n",
    "else:\n",
    "    print(missing_data)\n",
    "    print(missing_percent)"
   ]
  },
  {
   "cell_type": "markdown",
   "metadata": {},
   "source": [
    "#### 3. Data Cleaning and Conversion\n"
   ]
  },
  {
   "cell_type": "code",
   "execution_count": 9,
   "metadata": {
    "execution": {
     "iopub.execute_input": "2025-10-31T00:21:36.857776Z",
     "iopub.status.busy": "2025-10-31T00:21:36.857052Z",
     "iopub.status.idle": "2025-10-31T00:21:37.312294Z",
     "shell.execute_reply": "2025-10-31T00:21:37.312294Z"
    }
   },
   "outputs": [
    {
     "name": "stdout",
     "output_type": "stream",
     "text": [
      "=== CLEANING DATA ===\n"
     ]
    },
    {
     "name": "stdout",
     "output_type": "stream",
     "text": [
      "Renamed 'sitc' to 'product_description' and 'sitc_code' to 'prod_descpt_code'\n",
      "Converting quantity to numeric...\n"
     ]
    },
    {
     "name": "stdout",
     "output_type": "stream",
     "text": [
      "Converting gross_weight_tonnes to numeric...\n",
      "  Converting 1,605 negative values to 0\n",
      "Converting value_fob_aud to numeric...\n",
      "  Converting 1,605 negative values to 0\n"
     ]
    },
    {
     "name": "stdout",
     "output_type": "stream",
     "text": [
      "Data cleaning completed!\n"
     ]
    }
   ],
   "source": [
    "# Convert numeric columns and handle missing values\n",
    "print(\"=== CLEANING DATA ===\")\n",
    "\n",
    "# Rename columns for clarity\n",
    "df = df.rename(columns={\n",
    "    'sitc': 'product_description',\n",
    "    'sitc_code': 'prod_descpt_code'\n",
    "})\n",
    "print(\"Renamed 'sitc' to 'product_description' and 'sitc_code' to 'prod_descpt_code'\")\n",
    "\n",
    "# Convert numeric columns\n",
    "numeric_columns = ['quantity', 'gross_weight_tonnes', 'value_fob_aud']\n",
    "for col in numeric_columns:\n",
    "    if col in df.columns:\n",
    "        print(f\"Converting {col} to numeric...\")\n",
    "        df[col] = pd.to_numeric(df[col], errors='coerce')\n",
    "        \n",
    "        # Fill missing numeric values with 0\n",
    "        missing_count = df[col].isnull().sum()\n",
    "        if missing_count > 0:\n",
    "            print(f\"  Filling {missing_count:,} missing values with 0\")\n",
    "            df[col] = df[col].fillna(0)\n",
    "        \n",
    "        # Convert negative values to 0\n",
    "        negative_count = (df[col] < 0).sum()\n",
    "        if negative_count > 0:\n",
    "            print(f\"  Converting {negative_count:,} negative values to 0\")\n",
    "            df[col] = df[col].clip(lower=0)\n",
    "\n",
    "# Fill missing text values\n",
    "text_columns = ['country_of_destination', 'product_description']\n",
    "for col in text_columns:\n",
    "    if col in df.columns:\n",
    "        missing_count = df[col].isnull().sum()\n",
    "        if missing_count > 0:\n",
    "            print(f\"Filling {missing_count:,} missing values in {col} with 'Unknown'\")\n",
    "            df[col] = df[col].fillna('Unknown')\n",
    "\n",
    "print(\"Data cleaning completed!\")\n"
   ]
  },
  {
   "cell_type": "code",
   "execution_count": null,
   "metadata": {},
   "outputs": [],
   "source": []
  },
  {
   "cell_type": "code",
   "execution_count": null,
   "metadata": {},
   "outputs": [],
   "source": []
  },
  {
   "cell_type": "code",
   "execution_count": null,
   "metadata": {},
   "outputs": [],
   "source": []
  },
  {
   "cell_type": "code",
   "execution_count": 10,
   "metadata": {
    "execution": {
     "iopub.execute_input": "2025-10-31T00:21:37.312294Z",
     "iopub.status.busy": "2025-10-31T00:21:37.312294Z",
     "iopub.status.idle": "2025-10-31T00:21:44.953660Z",
     "shell.execute_reply": "2025-10-31T00:21:44.953660Z"
    }
   },
   "outputs": [
    {
     "name": "stdout",
     "output_type": "stream",
     "text": [
      "=== SAMPLE PRODUCT DESCRIPTIONS ===\n",
      "0                      Microphones and stands therefor\n",
      "1                      Microphones and stands therefor\n",
      "2                      Microphones and stands therefor\n",
      "3    Electrical insulators (excl. those of glass or...\n",
      "4                                          Thermostats\n",
      "5    Hydrometers and similar floating instruments, ...\n",
      "6    Hydrometers and similar floating instruments, ...\n",
      "7    Hydrometers and similar floating instruments, ...\n",
      "8    Hydrometers and similar floating instruments, ...\n",
      "9    Hydrometers and similar floating instruments, ...\n",
      "Name: product_description, dtype: object\n",
      "\n",
      "=== STATISTICS ===\n"
     ]
    },
    {
     "name": "stdout",
     "output_type": "stream",
     "text": [
      "Unique products: 2849\n"
     ]
    },
    {
     "name": "stdout",
     "output_type": "stream",
     "text": [
      "Max length: 245\n"
     ]
    },
    {
     "name": "stdout",
     "output_type": "stream",
     "text": [
      "Min length: 4\n"
     ]
    },
    {
     "name": "stdout",
     "output_type": "stream",
     "text": [
      "\n",
      "Any with extra whitespace: 14943\n",
      "Any with leading/trailing spaces: 0\n"
     ]
    },
    {
     "data": {
      "text/html": [
       "<div>\n",
       "<style scoped>\n",
       "    .dataframe tbody tr th:only-of-type {\n",
       "        vertical-align: middle;\n",
       "    }\n",
       "\n",
       "    .dataframe tbody tr th {\n",
       "        vertical-align: top;\n",
       "    }\n",
       "\n",
       "    .dataframe thead th {\n",
       "        text-align: right;\n",
       "    }\n",
       "</style>\n",
       "<table border=\"1\" class=\"dataframe\">\n",
       "  <thead>\n",
       "    <tr style=\"text-align: right;\">\n",
       "      <th></th>\n",
       "      <th>month</th>\n",
       "      <th>prod_descpt_code</th>\n",
       "      <th>product_description</th>\n",
       "      <th>country_of_destination_code</th>\n",
       "      <th>country_of_destination</th>\n",
       "      <th>port_of_discharge_code</th>\n",
       "      <th>port_of_discharge</th>\n",
       "      <th>state_of_origin_code</th>\n",
       "      <th>state_of_origin</th>\n",
       "      <th>port_of_loading_code</th>\n",
       "      <th>port_of_loading</th>\n",
       "      <th>mode_of_transport_code</th>\n",
       "      <th>mode_of_transport</th>\n",
       "      <th>unit_of_quantity</th>\n",
       "      <th>quantity</th>\n",
       "      <th>gross_weight_tonnes</th>\n",
       "      <th>value_fob_aud</th>\n",
       "      <th>year</th>\n",
       "    </tr>\n",
       "  </thead>\n",
       "  <tbody>\n",
       "    <tr>\n",
       "      <th>0</th>\n",
       "      <td>January 2024</td>\n",
       "      <td>76421</td>\n",
       "      <td>Microphones and stands therefor</td>\n",
       "      <td>NZ</td>\n",
       "      <td>New Zealand</td>\n",
       "      <td>554100</td>\n",
       "      <td>Auckland</td>\n",
       "      <td>1</td>\n",
       "      <td>New South Wales</td>\n",
       "      <td>101</td>\n",
       "      <td>Sydney</td>\n",
       "      <td>S</td>\n",
       "      <td>SEA</td>\n",
       "      <td>Number</td>\n",
       "      <td>1598.0</td>\n",
       "      <td>1.17700</td>\n",
       "      <td>128687.0</td>\n",
       "      <td>2024</td>\n",
       "    </tr>\n",
       "    <tr>\n",
       "      <th>1</th>\n",
       "      <td>January 2024</td>\n",
       "      <td>76421</td>\n",
       "      <td>Microphones and stands therefor</td>\n",
       "      <td>NZ</td>\n",
       "      <td>New Zealand</td>\n",
       "      <td>554100</td>\n",
       "      <td>Auckland</td>\n",
       "      <td>2</td>\n",
       "      <td>Victoria</td>\n",
       "      <td>201</td>\n",
       "      <td>Melbourne</td>\n",
       "      <td>A</td>\n",
       "      <td>AIR</td>\n",
       "      <td>Number</td>\n",
       "      <td>25.0</td>\n",
       "      <td>0.12808</td>\n",
       "      <td>25013.0</td>\n",
       "      <td>2024</td>\n",
       "    </tr>\n",
       "    <tr>\n",
       "      <th>2</th>\n",
       "      <td>January 2024</td>\n",
       "      <td>76421</td>\n",
       "      <td>Microphones and stands therefor</td>\n",
       "      <td>NZ</td>\n",
       "      <td>New Zealand</td>\n",
       "      <td>554100</td>\n",
       "      <td>Auckland</td>\n",
       "      <td>F</td>\n",
       "      <td>Re-exports</td>\n",
       "      <td>201</td>\n",
       "      <td>Melbourne</td>\n",
       "      <td>S</td>\n",
       "      <td>SEA</td>\n",
       "      <td>Number</td>\n",
       "      <td>8.0</td>\n",
       "      <td>0.04920</td>\n",
       "      <td>492.0</td>\n",
       "      <td>2024</td>\n",
       "    </tr>\n",
       "  </tbody>\n",
       "</table>\n",
       "</div>"
      ],
      "text/plain": [
       "          month  prod_descpt_code              product_description  \\\n",
       "0  January 2024             76421  Microphones and stands therefor   \n",
       "1  January 2024             76421  Microphones and stands therefor   \n",
       "2  January 2024             76421  Microphones and stands therefor   \n",
       "\n",
       "  country_of_destination_code country_of_destination  port_of_discharge_code  \\\n",
       "0                          NZ            New Zealand                  554100   \n",
       "1                          NZ            New Zealand                  554100   \n",
       "2                          NZ            New Zealand                  554100   \n",
       "\n",
       "  port_of_discharge state_of_origin_code  state_of_origin  \\\n",
       "0          Auckland                    1  New South Wales   \n",
       "1          Auckland                    2         Victoria   \n",
       "2          Auckland                    F       Re-exports   \n",
       "\n",
       "   port_of_loading_code port_of_loading mode_of_transport_code  \\\n",
       "0                   101          Sydney                      S   \n",
       "1                   201       Melbourne                      A   \n",
       "2                   201       Melbourne                      S   \n",
       "\n",
       "  mode_of_transport unit_of_quantity  quantity  gross_weight_tonnes  \\\n",
       "0               SEA           Number    1598.0              1.17700   \n",
       "1               AIR           Number      25.0              0.12808   \n",
       "2               SEA           Number       8.0              0.04920   \n",
       "\n",
       "   value_fob_aud  year  \n",
       "0       128687.0  2024  \n",
       "1        25013.0  2024  \n",
       "2          492.0  2024  "
      ]
     },
     "execution_count": 10,
     "metadata": {},
     "output_type": "execute_result"
    }
   ],
   "source": [
    "# Inspect product descriptions\n",
    "print(\"=== SAMPLE PRODUCT DESCRIPTIONS ===\")\n",
    "print(df['product_description'].head(10))\n",
    "print(f\"\\n=== STATISTICS ===\")\n",
    "print(f\"Unique products: {df['product_description'].nunique()}\")\n",
    "print(f\"Max length: {df['product_description'].str.len().max()}\")\n",
    "print(f\"Min length: {df['product_description'].str.len().min()}\")\n",
    "\n",
    "# Check for whitespace issues (define pattern outside f-string to avoid backslash error)\n",
    "extra_whitespace_count = df['product_description'].str.contains(r'\\s{2,}', regex=True).sum()\n",
    "trailing_space_count = (df['product_description'] != df['product_description'].str.strip()).sum()\n",
    "\n",
    "print(f\"\\nAny with extra whitespace: {extra_whitespace_count}\")\n",
    "print(f\"Any with leading/trailing spaces: {trailing_space_count}\")\n",
    "\n",
    "df.head(3)"
   ]
  },
  {
   "cell_type": "code",
   "execution_count": 11,
   "metadata": {
    "execution": {
     "iopub.execute_input": "2025-10-31T00:21:44.953660Z",
     "iopub.status.busy": "2025-10-31T00:21:44.953660Z",
     "iopub.status.idle": "2025-10-31T00:22:04.565835Z",
     "shell.execute_reply": "2025-10-31T00:22:04.563829Z"
    }
   },
   "outputs": [
    {
     "name": "stdout",
     "output_type": "stream",
     "text": [
      "\n",
      "=== CLEANING PRODUCT DESCRIPTIONS ===\n"
     ]
    },
    {
     "name": "stdout",
     "output_type": "stream",
     "text": [
      "Product descriptions cleaned!\n"
     ]
    },
    {
     "name": "stdout",
     "output_type": "stream",
     "text": [
      "Unique products: 2849\n"
     ]
    }
   ],
   "source": [
    "# Clean product descriptions\n",
    "print(\"\\n=== CLEANING PRODUCT DESCRIPTIONS ===\")\n",
    "\n",
    "# Strip leading/trailing whitespace\n",
    "df['product_description'] = df['product_description'].str.strip()\n",
    "\n",
    "# Replace multiple spaces with single space\n",
    "df['product_description'] = df['product_description'].str.replace(r'\\s+', ' ', regex=True)\n",
    "\n",
    "# Remove line breaks and tabs\n",
    "df['product_description'] = df['product_description'].str.replace(r'[\\n\\r\\t]+', ' ', regex=True)\n",
    "\n",
    "# Standardize quotation marks\n",
    "df['product_description'] = df['product_description'].str.replace('\"', '', regex=False)\n",
    "df['product_description'] = df['product_description'].str.replace(\"'\", '', regex=False)\n",
    "\n",
    "# Optional: Title case for consistency (comment out if you prefer original casing)\n",
    "# df['product_description'] = df['product_description'].str.title()\n",
    "\n",
    "print(f\"Product descriptions cleaned!\")\n",
    "print(f\"Unique products: {df['product_description'].nunique()}\")\n"
   ]
  },
  {
   "cell_type": "code",
   "execution_count": 12,
   "metadata": {
    "execution": {
     "iopub.execute_input": "2025-10-31T00:22:04.569849Z",
     "iopub.status.busy": "2025-10-31T00:22:04.569849Z",
     "iopub.status.idle": "2025-10-31T00:22:04.577713Z",
     "shell.execute_reply": "2025-10-31T00:22:04.575709Z"
    }
   },
   "outputs": [
    {
     "name": "stdout",
     "output_type": "stream",
     "text": [
      "✅ Standardization removed - SITC mapping will handle unclassified products\n"
     ]
    }
   ],
   "source": [
    "# Standardization section removed - now handled by SITC mapping\n",
    "print(\"✅ Standardization removed - SITC mapping will handle unclassified products\")\n"
   ]
  },
  {
   "cell_type": "code",
   "execution_count": 13,
   "metadata": {
    "execution": {
     "iopub.execute_input": "2025-10-31T00:22:04.580123Z",
     "iopub.status.busy": "2025-10-31T00:22:04.580123Z",
     "iopub.status.idle": "2025-10-31T00:22:10.269618Z",
     "shell.execute_reply": "2025-10-31T00:22:10.269618Z"
    }
   },
   "outputs": [
    {
     "name": "stdout",
     "output_type": "stream",
     "text": [
      "\n",
      "Any with extra whitespace: 0\n",
      "Any with leading/trailing spaces: 0\n"
     ]
    },
    {
     "data": {
      "text/html": [
       "<div>\n",
       "<style scoped>\n",
       "    .dataframe tbody tr th:only-of-type {\n",
       "        vertical-align: middle;\n",
       "    }\n",
       "\n",
       "    .dataframe tbody tr th {\n",
       "        vertical-align: top;\n",
       "    }\n",
       "\n",
       "    .dataframe thead th {\n",
       "        text-align: right;\n",
       "    }\n",
       "</style>\n",
       "<table border=\"1\" class=\"dataframe\">\n",
       "  <thead>\n",
       "    <tr style=\"text-align: right;\">\n",
       "      <th></th>\n",
       "      <th>month</th>\n",
       "      <th>prod_descpt_code</th>\n",
       "      <th>product_description</th>\n",
       "      <th>country_of_destination_code</th>\n",
       "      <th>country_of_destination</th>\n",
       "      <th>port_of_discharge_code</th>\n",
       "      <th>port_of_discharge</th>\n",
       "      <th>state_of_origin_code</th>\n",
       "      <th>state_of_origin</th>\n",
       "      <th>port_of_loading_code</th>\n",
       "      <th>port_of_loading</th>\n",
       "      <th>mode_of_transport_code</th>\n",
       "      <th>mode_of_transport</th>\n",
       "      <th>unit_of_quantity</th>\n",
       "      <th>quantity</th>\n",
       "      <th>gross_weight_tonnes</th>\n",
       "      <th>value_fob_aud</th>\n",
       "      <th>year</th>\n",
       "    </tr>\n",
       "  </thead>\n",
       "  <tbody>\n",
       "    <tr>\n",
       "      <th>0</th>\n",
       "      <td>January 2024</td>\n",
       "      <td>76421</td>\n",
       "      <td>Microphones and stands therefor</td>\n",
       "      <td>NZ</td>\n",
       "      <td>New Zealand</td>\n",
       "      <td>554100</td>\n",
       "      <td>Auckland</td>\n",
       "      <td>1</td>\n",
       "      <td>New South Wales</td>\n",
       "      <td>101</td>\n",
       "      <td>Sydney</td>\n",
       "      <td>S</td>\n",
       "      <td>SEA</td>\n",
       "      <td>Number</td>\n",
       "      <td>1598.0</td>\n",
       "      <td>1.17700</td>\n",
       "      <td>128687.0</td>\n",
       "      <td>2024</td>\n",
       "    </tr>\n",
       "    <tr>\n",
       "      <th>1</th>\n",
       "      <td>January 2024</td>\n",
       "      <td>76421</td>\n",
       "      <td>Microphones and stands therefor</td>\n",
       "      <td>NZ</td>\n",
       "      <td>New Zealand</td>\n",
       "      <td>554100</td>\n",
       "      <td>Auckland</td>\n",
       "      <td>2</td>\n",
       "      <td>Victoria</td>\n",
       "      <td>201</td>\n",
       "      <td>Melbourne</td>\n",
       "      <td>A</td>\n",
       "      <td>AIR</td>\n",
       "      <td>Number</td>\n",
       "      <td>25.0</td>\n",
       "      <td>0.12808</td>\n",
       "      <td>25013.0</td>\n",
       "      <td>2024</td>\n",
       "    </tr>\n",
       "    <tr>\n",
       "      <th>2</th>\n",
       "      <td>January 2024</td>\n",
       "      <td>76421</td>\n",
       "      <td>Microphones and stands therefor</td>\n",
       "      <td>NZ</td>\n",
       "      <td>New Zealand</td>\n",
       "      <td>554100</td>\n",
       "      <td>Auckland</td>\n",
       "      <td>F</td>\n",
       "      <td>Re-exports</td>\n",
       "      <td>201</td>\n",
       "      <td>Melbourne</td>\n",
       "      <td>S</td>\n",
       "      <td>SEA</td>\n",
       "      <td>Number</td>\n",
       "      <td>8.0</td>\n",
       "      <td>0.04920</td>\n",
       "      <td>492.0</td>\n",
       "      <td>2024</td>\n",
       "    </tr>\n",
       "  </tbody>\n",
       "</table>\n",
       "</div>"
      ],
      "text/plain": [
       "          month  prod_descpt_code              product_description  \\\n",
       "0  January 2024             76421  Microphones and stands therefor   \n",
       "1  January 2024             76421  Microphones and stands therefor   \n",
       "2  January 2024             76421  Microphones and stands therefor   \n",
       "\n",
       "  country_of_destination_code country_of_destination  port_of_discharge_code  \\\n",
       "0                          NZ            New Zealand                  554100   \n",
       "1                          NZ            New Zealand                  554100   \n",
       "2                          NZ            New Zealand                  554100   \n",
       "\n",
       "  port_of_discharge state_of_origin_code  state_of_origin  \\\n",
       "0          Auckland                    1  New South Wales   \n",
       "1          Auckland                    2         Victoria   \n",
       "2          Auckland                    F       Re-exports   \n",
       "\n",
       "   port_of_loading_code port_of_loading mode_of_transport_code  \\\n",
       "0                   101          Sydney                      S   \n",
       "1                   201       Melbourne                      A   \n",
       "2                   201       Melbourne                      S   \n",
       "\n",
       "  mode_of_transport unit_of_quantity  quantity  gross_weight_tonnes  \\\n",
       "0               SEA           Number    1598.0              1.17700   \n",
       "1               AIR           Number      25.0              0.12808   \n",
       "2               SEA           Number       8.0              0.04920   \n",
       "\n",
       "   value_fob_aud  year  \n",
       "0       128687.0  2024  \n",
       "1        25013.0  2024  \n",
       "2          492.0  2024  "
      ]
     },
     "execution_count": 13,
     "metadata": {},
     "output_type": "execute_result"
    }
   ],
   "source": [
    "\n",
    "# Check for whitespace issues (define pattern outside f-string to avoid backslash error)\n",
    "extra_whitespace_count = df['product_description'].str.contains(r'\\s{2,}', regex=True).sum()\n",
    "trailing_space_count = (df['product_description'] != df['product_description'].str.strip()).sum()\n",
    "\n",
    "print(f\"\\nAny with extra whitespace: {extra_whitespace_count}\")\n",
    "print(f\"Any with leading/trailing spaces: {trailing_space_count}\")\n",
    "\n",
    "df.head(3)"
   ]
  },
  {
   "cell_type": "code",
   "execution_count": 14,
   "metadata": {
    "execution": {
     "iopub.execute_input": "2025-10-31T00:22:10.271625Z",
     "iopub.status.busy": "2025-10-31T00:22:10.271625Z",
     "iopub.status.idle": "2025-10-31T00:22:10.277667Z",
     "shell.execute_reply": "2025-10-31T00:22:10.277667Z"
    }
   },
   "outputs": [],
   "source": [
    "#### 3.5 Derived Features & Transformations\n"
   ]
  },
  {
   "cell_type": "code",
   "execution_count": 15,
   "metadata": {
    "execution": {
     "iopub.execute_input": "2025-10-31T00:22:10.277667Z",
     "iopub.status.busy": "2025-10-31T00:22:10.277667Z",
     "iopub.status.idle": "2025-10-31T00:22:10.284685Z",
     "shell.execute_reply": "2025-10-31T00:22:10.284685Z"
    }
   },
   "outputs": [],
   "source": [
    "# This section creates derived features before final duplicate removal"
   ]
  },
  {
   "cell_type": "code",
   "execution_count": 16,
   "metadata": {
    "execution": {
     "iopub.execute_input": "2025-10-31T00:22:10.287461Z",
     "iopub.status.busy": "2025-10-31T00:22:10.287461Z",
     "iopub.status.idle": "2025-10-31T00:22:20.557446Z",
     "shell.execute_reply": "2025-10-31T00:22:20.557446Z"
    }
   },
   "outputs": [
    {
     "name": "stdout",
     "output_type": "stream",
     "text": [
      "\n",
      "=== CREATING DERIVED FEATURES ===\n"
     ]
    },
    {
     "name": "stdout",
     "output_type": "stream",
     "text": [
      "Years found: [np.int64(2024), np.int64(2025)]\n",
      "Months found: [np.int64(1), np.int64(2), np.int64(3), np.int64(4), np.int64(5), np.int64(6), np.int64(7), np.int64(8), np.int64(9), np.int64(10), np.int64(11), np.int64(12)]\n",
      "Month names: ['January' 'February' 'April' 'March' 'May' 'September' 'November'\n",
      " 'December' 'June' 'July' 'October' 'August']\n",
      "Value per tonne calculated for 1,478,000 records\n"
     ]
    }
   ],
   "source": [
    "# Extract year and month into separate columns\n",
    "print(\"\\n=== CREATING DERIVED FEATURES ===\")\n",
    "\n",
    "# The original month column format is \"Month_Name YYYY\" (e.g., \"August 2024\")\n",
    "# Extract year (4 digits at the end)\n",
    "df['year'] = df['month'].str.extract(r'(\\d{4})')[0]\n",
    "df['year'] = pd.to_numeric(df['year'], errors='coerce')\n",
    "\n",
    "# Extract month name (everything before the year) - get first column as Series\n",
    "month_name_temp = df['month'].str.extract(r'^([A-Za-z]+)')[0]\n",
    "\n",
    "# Convert month name to month number\n",
    "month_to_number = {\n",
    "    'January': 1, 'February': 2, 'March': 3, 'April': 4, \n",
    "    'May': 5, 'June': 6, 'July': 7, 'August': 8,\n",
    "    'September': 9, 'October': 10, 'November': 11, 'December': 12\n",
    "}\n",
    "df['month_number'] = month_name_temp.map(month_to_number)\n",
    "\n",
    "# Replace the original month column with just the month name\n",
    "df['month'] = month_name_temp\n",
    "\n",
    "# Create value per tonne metric\n",
    "df['value_per_tonne'] = df['value_fob_aud'] / df['gross_weight_tonnes'].replace(0, np.nan)\n",
    "df['data_processed_date'] = datetime.now().strftime('%Y-%m-%d')\n",
    "\n",
    "print(f\"Years found: {sorted(df['year'].dropna().unique())}\")\n",
    "print(f\"Months found: {sorted(df['month_number'].dropna().unique())}\")\n",
    "print(f\"Month names: {df['month'].unique()}\")\n",
    "print(f\"Value per tonne calculated for {df['value_per_tonne'].notna().sum():,} records\")\n"
   ]
  },
  {
   "cell_type": "code",
   "execution_count": 17,
   "metadata": {
    "execution": {
     "iopub.execute_input": "2025-10-31T00:22:20.557446Z",
     "iopub.status.busy": "2025-10-31T00:22:20.557446Z",
     "iopub.status.idle": "2025-10-31T00:22:24.972663Z",
     "shell.execute_reply": "2025-10-31T00:22:24.972663Z"
    }
   },
   "outputs": [
    {
     "name": "stdout",
     "output_type": "stream",
     "text": [
      "\n",
      "=== FINAL DUPLICATE CHECK ===\n"
     ]
    },
    {
     "name": "stdout",
     "output_type": "stream",
     "text": [
      "Found 0 duplicate rows\n",
      "✅ No duplicates found!\n"
     ]
    }
   ],
   "source": [
    "# Final duplicate check and removal (after all transformations)\n",
    "print(\"\\n=== FINAL DUPLICATE CHECK ===\")\n",
    "duplicates = df.duplicated().sum()\n",
    "print(f\"Found {duplicates:,} duplicate rows\")\n",
    "\n",
    "if duplicates > 0:\n",
    "    # Show some duplicate rows as examples\n",
    "    print(\"\\nExample of duplicate rows:\")\n",
    "    duplicate_mask = df.duplicated(keep=False)\n",
    "    sample_duplicates = df[duplicate_mask].head(4).sort_values(by=['month', 'product_description'])\n",
    "    print(sample_duplicates[['month', 'year', 'product_description', 'country_of_destination', \n",
    "                              'value_fob_aud', 'gross_weight_tonnes']].to_string())\n",
    "    \n",
    "    # Remove duplicates\n",
    "    print(f\"\\nRemoving {duplicates:,} duplicate rows...\")\n",
    "    df = df.drop_duplicates()\n",
    "    print(f\"✅ Duplicates removed! New shape: {df.shape}\")\n",
    "else:\n",
    "    print(\"✅ No duplicates found!\")\n"
   ]
  },
  {
   "cell_type": "code",
   "execution_count": 18,
   "metadata": {
    "execution": {
     "iopub.execute_input": "2025-10-31T00:22:24.972663Z",
     "iopub.status.busy": "2025-10-31T00:22:24.972663Z",
     "iopub.status.idle": "2025-10-31T00:22:25.005541Z",
     "shell.execute_reply": "2025-10-31T00:22:25.005541Z"
    }
   },
   "outputs": [
    {
     "data": {
      "text/html": [
       "<div>\n",
       "<style scoped>\n",
       "    .dataframe tbody tr th:only-of-type {\n",
       "        vertical-align: middle;\n",
       "    }\n",
       "\n",
       "    .dataframe tbody tr th {\n",
       "        vertical-align: top;\n",
       "    }\n",
       "\n",
       "    .dataframe thead th {\n",
       "        text-align: right;\n",
       "    }\n",
       "</style>\n",
       "<table border=\"1\" class=\"dataframe\">\n",
       "  <thead>\n",
       "    <tr style=\"text-align: right;\">\n",
       "      <th></th>\n",
       "      <th>month</th>\n",
       "      <th>prod_descpt_code</th>\n",
       "      <th>product_description</th>\n",
       "      <th>country_of_destination_code</th>\n",
       "      <th>country_of_destination</th>\n",
       "      <th>port_of_discharge_code</th>\n",
       "      <th>port_of_discharge</th>\n",
       "      <th>state_of_origin_code</th>\n",
       "      <th>state_of_origin</th>\n",
       "      <th>port_of_loading_code</th>\n",
       "      <th>port_of_loading</th>\n",
       "      <th>mode_of_transport_code</th>\n",
       "      <th>mode_of_transport</th>\n",
       "      <th>unit_of_quantity</th>\n",
       "      <th>quantity</th>\n",
       "      <th>gross_weight_tonnes</th>\n",
       "      <th>value_fob_aud</th>\n",
       "      <th>year</th>\n",
       "      <th>month_number</th>\n",
       "      <th>value_per_tonne</th>\n",
       "      <th>data_processed_date</th>\n",
       "    </tr>\n",
       "  </thead>\n",
       "  <tbody>\n",
       "    <tr>\n",
       "      <th>0</th>\n",
       "      <td>January</td>\n",
       "      <td>76421</td>\n",
       "      <td>Microphones and stands therefor</td>\n",
       "      <td>NZ</td>\n",
       "      <td>New Zealand</td>\n",
       "      <td>554100</td>\n",
       "      <td>Auckland</td>\n",
       "      <td>1</td>\n",
       "      <td>New South Wales</td>\n",
       "      <td>101</td>\n",
       "      <td>Sydney</td>\n",
       "      <td>S</td>\n",
       "      <td>SEA</td>\n",
       "      <td>Number</td>\n",
       "      <td>1598.0</td>\n",
       "      <td>1.17700</td>\n",
       "      <td>128687.0</td>\n",
       "      <td>2024</td>\n",
       "      <td>1</td>\n",
       "      <td>109334.749363</td>\n",
       "      <td>2025-10-31</td>\n",
       "    </tr>\n",
       "    <tr>\n",
       "      <th>1</th>\n",
       "      <td>January</td>\n",
       "      <td>76421</td>\n",
       "      <td>Microphones and stands therefor</td>\n",
       "      <td>NZ</td>\n",
       "      <td>New Zealand</td>\n",
       "      <td>554100</td>\n",
       "      <td>Auckland</td>\n",
       "      <td>2</td>\n",
       "      <td>Victoria</td>\n",
       "      <td>201</td>\n",
       "      <td>Melbourne</td>\n",
       "      <td>A</td>\n",
       "      <td>AIR</td>\n",
       "      <td>Number</td>\n",
       "      <td>25.0</td>\n",
       "      <td>0.12808</td>\n",
       "      <td>25013.0</td>\n",
       "      <td>2024</td>\n",
       "      <td>1</td>\n",
       "      <td>195292.004997</td>\n",
       "      <td>2025-10-31</td>\n",
       "    </tr>\n",
       "    <tr>\n",
       "      <th>2</th>\n",
       "      <td>January</td>\n",
       "      <td>76421</td>\n",
       "      <td>Microphones and stands therefor</td>\n",
       "      <td>NZ</td>\n",
       "      <td>New Zealand</td>\n",
       "      <td>554100</td>\n",
       "      <td>Auckland</td>\n",
       "      <td>F</td>\n",
       "      <td>Re-exports</td>\n",
       "      <td>201</td>\n",
       "      <td>Melbourne</td>\n",
       "      <td>S</td>\n",
       "      <td>SEA</td>\n",
       "      <td>Number</td>\n",
       "      <td>8.0</td>\n",
       "      <td>0.04920</td>\n",
       "      <td>492.0</td>\n",
       "      <td>2024</td>\n",
       "      <td>1</td>\n",
       "      <td>10000.000000</td>\n",
       "      <td>2025-10-31</td>\n",
       "    </tr>\n",
       "    <tr>\n",
       "      <th>3</th>\n",
       "      <td>February</td>\n",
       "      <td>77324</td>\n",
       "      <td>Electrical insulators (excl. those of glass or...</td>\n",
       "      <td>USA</td>\n",
       "      <td>United States of America</td>\n",
       "      <td>840468</td>\n",
       "      <td>Los Angeles</td>\n",
       "      <td>1</td>\n",
       "      <td>New South Wales</td>\n",
       "      <td>101</td>\n",
       "      <td>Sydney</td>\n",
       "      <td>A</td>\n",
       "      <td>AIR</td>\n",
       "      <td>Not Recorded</td>\n",
       "      <td>0.0</td>\n",
       "      <td>0.00200</td>\n",
       "      <td>819.0</td>\n",
       "      <td>2024</td>\n",
       "      <td>2</td>\n",
       "      <td>409500.000000</td>\n",
       "      <td>2025-10-31</td>\n",
       "    </tr>\n",
       "    <tr>\n",
       "      <th>4</th>\n",
       "      <td>April</td>\n",
       "      <td>87461</td>\n",
       "      <td>Thermostats</td>\n",
       "      <td>INDO</td>\n",
       "      <td>Indonesia</td>\n",
       "      <td>360035</td>\n",
       "      <td>Amamapare</td>\n",
       "      <td>3</td>\n",
       "      <td>Queensland</td>\n",
       "      <td>301</td>\n",
       "      <td>Brisbane</td>\n",
       "      <td>S</td>\n",
       "      <td>SEA</td>\n",
       "      <td>Number</td>\n",
       "      <td>8.0</td>\n",
       "      <td>22.44645</td>\n",
       "      <td>1174.0</td>\n",
       "      <td>2024</td>\n",
       "      <td>4</td>\n",
       "      <td>52.302257</td>\n",
       "      <td>2025-10-31</td>\n",
       "    </tr>\n",
       "  </tbody>\n",
       "</table>\n",
       "</div>"
      ],
      "text/plain": [
       "      month  prod_descpt_code  \\\n",
       "0   January             76421   \n",
       "1   January             76421   \n",
       "2   January             76421   \n",
       "3  February             77324   \n",
       "4     April             87461   \n",
       "\n",
       "                                 product_description  \\\n",
       "0                    Microphones and stands therefor   \n",
       "1                    Microphones and stands therefor   \n",
       "2                    Microphones and stands therefor   \n",
       "3  Electrical insulators (excl. those of glass or...   \n",
       "4                                        Thermostats   \n",
       "\n",
       "  country_of_destination_code    country_of_destination  \\\n",
       "0                          NZ               New Zealand   \n",
       "1                          NZ               New Zealand   \n",
       "2                          NZ               New Zealand   \n",
       "3                         USA  United States of America   \n",
       "4                        INDO                 Indonesia   \n",
       "\n",
       "   port_of_discharge_code port_of_discharge state_of_origin_code  \\\n",
       "0                  554100          Auckland                    1   \n",
       "1                  554100          Auckland                    2   \n",
       "2                  554100          Auckland                    F   \n",
       "3                  840468       Los Angeles                    1   \n",
       "4                  360035         Amamapare                    3   \n",
       "\n",
       "   state_of_origin  port_of_loading_code port_of_loading  \\\n",
       "0  New South Wales                   101          Sydney   \n",
       "1         Victoria                   201       Melbourne   \n",
       "2       Re-exports                   201       Melbourne   \n",
       "3  New South Wales                   101          Sydney   \n",
       "4       Queensland                   301        Brisbane   \n",
       "\n",
       "  mode_of_transport_code mode_of_transport unit_of_quantity  quantity  \\\n",
       "0                      S               SEA           Number    1598.0   \n",
       "1                      A               AIR           Number      25.0   \n",
       "2                      S               SEA           Number       8.0   \n",
       "3                      A               AIR     Not Recorded       0.0   \n",
       "4                      S               SEA           Number       8.0   \n",
       "\n",
       "   gross_weight_tonnes  value_fob_aud  year  month_number  value_per_tonne  \\\n",
       "0              1.17700       128687.0  2024             1    109334.749363   \n",
       "1              0.12808        25013.0  2024             1    195292.004997   \n",
       "2              0.04920          492.0  2024             1     10000.000000   \n",
       "3              0.00200          819.0  2024             2    409500.000000   \n",
       "4             22.44645         1174.0  2024             4        52.302257   \n",
       "\n",
       "  data_processed_date  \n",
       "0          2025-10-31  \n",
       "1          2025-10-31  \n",
       "2          2025-10-31  \n",
       "3          2025-10-31  \n",
       "4          2025-10-31  "
      ]
     },
     "execution_count": 18,
     "metadata": {},
     "output_type": "execute_result"
    }
   ],
   "source": [
    "df.head(5)"
   ]
  },
  {
   "cell_type": "markdown",
   "metadata": {},
   "source": [
    "#### 4. Save Cleaned Data\n"
   ]
  },
  {
   "cell_type": "code",
   "execution_count": 19,
   "metadata": {
    "execution": {
     "iopub.execute_input": "2025-10-31T00:22:25.010521Z",
     "iopub.status.busy": "2025-10-31T00:22:25.005541Z",
     "iopub.status.idle": "2025-10-31T00:23:16.956680Z",
     "shell.execute_reply": "2025-10-31T00:23:16.956680Z"
    }
   },
   "outputs": [
    {
     "name": "stdout",
     "output_type": "stream",
     "text": [
      "=== SITC CODE MAPPING ===\n",
      "Mapping SITC codes to product descriptions...\n"
     ]
    },
    {
     "name": "stdout",
     "output_type": "stream",
     "text": [
      "Unclassified products before mapping: 293,823\n"
     ]
    },
    {
     "name": "stdout",
     "output_type": "stream",
     "text": [
      "Unclassified products after mapping: 38,909\n",
      "Products successfully mapped: 254,914\n",
      "SITC code mapping completed!\n"
     ]
    }
   ],
   "source": [
    "# SITC CODE MAPPING TO PRODUCT DESCRIPTIONS\n",
    "print(\"=== SITC CODE MAPPING ===\")\n",
    "\n",
    "# Import SITC mapping from external file\n",
    "from sitc_mapping import map_sitc_to_product, get_unclassified_patterns\n",
    "\n",
    "# Apply SITC mapping to unclassified products\n",
    "print(\"Mapping SITC codes to product descriptions...\")\n",
    "\n",
    "# Count unclassified products before mapping\n",
    "unclassified_patterns = '|'.join(get_unclassified_patterns())\n",
    "unclassified_before = df['product_description'].str.contains(unclassified_patterns, case=False, na=False).sum()\n",
    "print(f\"Unclassified products before mapping: {unclassified_before:,}\")\n",
    "\n",
    "# Create new product description based on SITC codes for unclassified products\n",
    "mask_unclassified = df['product_description'].str.contains(unclassified_patterns, case=False, na=False)\n",
    "df.loc[mask_unclassified, 'product_description'] = df.loc[mask_unclassified, 'prod_descpt_code'].apply(map_sitc_to_product)\n",
    "\n",
    "# Count unclassified products after mapping\n",
    "unclassified_after = df['product_description'].str.contains(unclassified_patterns, case=False, na=False).sum()\n",
    "print(f\"Unclassified products after mapping: {unclassified_after:,}\")\n",
    "print(f\"Products successfully mapped: {unclassified_before - unclassified_after:,}\")\n",
    "\n",
    "print(\"SITC code mapping completed!\")\n"
   ]
  },
  {
   "cell_type": "code",
   "execution_count": 20,
   "metadata": {
    "execution": {
     "iopub.execute_input": "2025-10-31T00:23:16.960469Z",
     "iopub.status.busy": "2025-10-31T00:23:16.960469Z",
     "iopub.status.idle": "2025-10-31T00:23:39.236055Z",
     "shell.execute_reply": "2025-10-31T00:23:39.236055Z"
    }
   },
   "outputs": [
    {
     "name": "stdout",
     "output_type": "stream",
     "text": [
      "\n",
      "=== COUNTRY CODE MAPPING ===\n",
      "Checking country_of_destination column values...\n",
      "\n",
      "Unique values in country_of_destination column:\n",
      "Total unique countries: 221\n",
      "\n",
      "Top 20 countries:\n",
      "country_of_destination\n",
      "New Zealand                                             265982\n",
      "United States of America                                150221\n",
      "Papua New Guinea                                         95207\n",
      "China (excludes SARs and Taiwan)                         64755\n",
      "Singapore                                                63512\n",
      "United Kingdom, Channel Islands and Isle of Man, nfd     45675\n",
      "Malaysia                                                 44130\n",
      "Japan                                                    41843\n",
      "Indonesia                                                39768\n",
      "Hong Kong (SAR of China)                                 35440\n",
      "Thailand                                                 34774\n",
      "Fiji                                                     31337\n",
      "Germany                                                  30037\n",
      "Canada                                                   29470\n",
      "United Arab Emirates                                     29122\n",
      "Netherlands                                              24241\n",
      "India                                                    24051\n",
      "Korea, Republic of (South)                               23668\n",
      "Philippines                                              23328\n",
      "Vietnam                                                  22947\n",
      "Name: count, dtype: int64\n",
      "\n",
      "Checking for problematic entries...\n"
     ]
    },
    {
     "name": "stdout",
     "output_type": "stream",
     "text": [
      "\n",
      "Found problematic country entries:\n",
      "  'Guyana': 156 records\n",
      "  'France (includes Andorra and Monaco)': 17,728 records\n",
      "  'Vietnam': 22,947 records\n"
     ]
    },
    {
     "name": "stdout",
     "output_type": "stream",
     "text": [
      "  'Nauru': 6,585 records\n",
      "  'Wallis and Futuna': 349 records\n",
      "  'Grenada': 28 records\n",
      "  'Canada': 29,470 records\n"
     ]
    },
    {
     "name": "stdout",
     "output_type": "stream",
     "text": [
      "  'Hong Kong (SAR of China)': 35,440 records\n",
      "  'Northern Mariana Islands': 227 records\n",
      "  'Bosnia and Herzegovina': 157 records\n"
     ]
    },
    {
     "name": "stdout",
     "output_type": "stream",
     "text": [
      "  'China (excludes SARs and Taiwan)': 64,755 records\n",
      "  'No Country Details': 544 records\n",
      "  'St Vincent and the Grenadines': 31 records\n"
     ]
    },
    {
     "name": "stdout",
     "output_type": "stream",
     "text": [
      "  'French Guiana': 1 records\n",
      "  'Botswana': 3,398 records\n",
      "  'International Waters': 37 records\n"
     ]
    },
    {
     "name": "stdout",
     "output_type": "stream",
     "text": [
      "  'Macau (SAR of China)': 2,308 records\n",
      "  'Unknown': 2,635 records\n",
      "  'Ghana': 10,296 records\n"
     ]
    },
    {
     "name": "stdout",
     "output_type": "stream",
     "text": [
      "  'Suriname': 525 records\n",
      "  'Argentina': 1,453 records\n",
      "  'Namibia': 1,547 records\n",
      "  'Panama': 1,064 records\n"
     ]
    },
    {
     "name": "stdout",
     "output_type": "stream",
     "text": [
      "  'St Helena': 2 records\n",
      "  'Burkina Faso': 2,530 records\n",
      "\n",
      "Mapping country codes to country names...\n"
     ]
    },
    {
     "name": "stdout",
     "output_type": "stream",
     "text": [
      "Truly problematic country details before mapping: 204,213\n"
     ]
    },
    {
     "name": "stdout",
     "output_type": "stream",
     "text": [
      "Truly problematic country details after mapping: 148,353\n",
      "Countries successfully mapped: 55,860\n",
      "\n",
      "Examples of successful mappings:\n",
      "  Code: FRAN → Country: France\n",
      "  Code: HONG → Country: Hong Kong\n",
      "  Code: HONG → Country: Hong Kong\n",
      "  Code: FRAN → Country: France\n",
      "  Code: FRAN → Country: France\n",
      " Smart country code mapping completed!\n",
      "\n",
      "=== MAPPING EXAMPLES ===\n",
      "Sample SITC code mappings:\n"
     ]
    },
    {
     "name": "stdout",
     "output_type": "stream",
     "text": [
      "  76421 → Telecommunications and sound-recording and reproducing apparatus and equipment\n",
      "  76421 → Telecommunications and sound-recording and reproducing apparatus and equipment\n",
      "  76421 → Telecommunications and sound-recording and reproducing apparatus and equipment\n",
      "  77324 → Electrical machinery, apparatus and appliances, n.e.s., and electrical parts thereof\n",
      "  87461 → Professional, scientific and controlling instruments and apparatus, n.e.s.\n",
      "\n",
      "Sample country code mappings:\n"
     ]
    },
    {
     "name": "stdout",
     "output_type": "stream",
     "text": [
      "  NZ → New Zealand\n",
      "  NZ → New Zealand\n",
      "  NZ → New Zealand\n",
      "  USA → Unknown Country\n",
      "  INDO → Unknown Country\n"
     ]
    }
   ],
   "source": [
    "# COUNTRY CODE MAPPING TO COUNTRY NAMES\n",
    "print(\"\\n=== COUNTRY CODE MAPPING ===\")\n",
    "\n",
    "# Import country mapping from external file\n",
    "from country_mapping import map_country_code_to_name, get_problematic_country_patterns\n",
    "\n",
    "# First, let's check what values are actually in the country_of_destination column\n",
    "print(\"Checking country_of_destination column values...\")\n",
    "print(\"\\nUnique values in country_of_destination column:\")\n",
    "country_values = df['country_of_destination'].value_counts()\n",
    "print(f\"Total unique countries: {len(country_values)}\")\n",
    "print(\"\\nTop 20 countries:\")\n",
    "print(country_values.head(20))\n",
    "\n",
    "print(\"\\nChecking for problematic entries...\")\n",
    "problematic_patterns = get_problematic_country_patterns()\n",
    "problematic_countries = []\n",
    "\n",
    "for pattern in problematic_patterns:\n",
    "    matches = df['country_of_destination'].str.contains(pattern, case=False, na=False)\n",
    "    if matches.any():\n",
    "        problematic_countries.extend(df[matches]['country_of_destination'].unique())\n",
    "\n",
    "if problematic_countries:\n",
    "    print(f\"\\nFound problematic country entries:\")\n",
    "    for country in set(problematic_countries):\n",
    "        count = (df['country_of_destination'] == country).sum()\n",
    "        print(f\"  '{country}': {count:,} records\")\n",
    "else:\n",
    "    print(\"\\nNo obvious problematic entries found.\")\n",
    "\n",
    "# Apply country code mapping ONLY to truly problematic country names\n",
    "print(\"\\nMapping country codes to country names...\")\n",
    "\n",
    "# Import the new function\n",
    "from country_mapping import is_problematic_country_name\n",
    "\n",
    "# Count truly problematic entries before mapping\n",
    "problematic_mask = df['country_of_destination'].apply(is_problematic_country_name)\n",
    "missing_countries_before = problematic_mask.sum()\n",
    "print(f\"Truly problematic country details before mapping: {missing_countries_before:,}\")\n",
    "\n",
    "# Only map entries that are actually problematic\n",
    "if missing_countries_before > 0:\n",
    "    df.loc[problematic_mask, 'country_of_destination'] = df.loc[problematic_mask, 'country_of_destination_code'].apply(map_country_code_to_name)\n",
    "\n",
    "# Count problematic entries after mapping\n",
    "problematic_mask_after = df['country_of_destination'].apply(is_problematic_country_name)\n",
    "missing_countries_after = problematic_mask_after.sum()\n",
    "print(f\"Truly problematic country details after mapping: {missing_countries_after:,}\")\n",
    "print(f\"Countries successfully mapped: {missing_countries_before - missing_countries_after:,}\")\n",
    "\n",
    "# Show examples of what was mapped\n",
    "if missing_countries_before > missing_countries_after:\n",
    "    print(f\"\\nExamples of successful mappings:\")\n",
    "    mapped_entries = df[problematic_mask & ~problematic_mask_after].head(5)\n",
    "    for _, row in mapped_entries.iterrows():\n",
    "        print(f\"  Code: {row['country_of_destination_code']} → Country: {row['country_of_destination']}\")\n",
    "\n",
    "print(\" Smart country code mapping completed!\")\n",
    "\n",
    "# Show some examples of the mappings\n",
    "print(\"\\n=== MAPPING EXAMPLES ===\")\n",
    "print(\"Sample SITC code mappings:\")\n",
    "sample_sitc = df[df['prod_descpt_code'].notna()]['prod_descpt_code'].head(5)\n",
    "for code in sample_sitc:\n",
    "    mapped = map_sitc_to_product(code)\n",
    "    print(f\"  {code} → {mapped}\")\n",
    "\n",
    "print(\"\\nSample country code mappings:\")\n",
    "sample_countries = df[df['country_of_destination_code'].notna()]['country_of_destination_code'].head(5)\n",
    "for code in sample_countries:\n",
    "    mapped = map_country_code_to_name(code)\n",
    "    print(f\"  {code} → {mapped}\")\n"
   ]
  },
  {
   "cell_type": "markdown",
   "metadata": {},
   "source": [
    "\n"
   ]
  },
  {
   "cell_type": "code",
   "execution_count": 21,
   "metadata": {
    "execution": {
     "iopub.execute_input": "2025-10-31T00:23:39.236055Z",
     "iopub.status.busy": "2025-10-31T00:23:39.236055Z",
     "iopub.status.idle": "2025-10-31T00:24:04.346586Z",
     "shell.execute_reply": "2025-10-31T00:24:04.346586Z"
    }
   },
   "outputs": [
    {
     "name": "stdout",
     "output_type": "stream",
     "text": [
      " Cleaned data saved to: data/exports_cleaned.csv\n",
      "Final dataset shape: (1479965, 21)\n",
      "File size: 351.63 MB\n",
      "\n",
      " DATA CLEANING COMPLETED WITH MAPPINGS!\n",
      "==================================================\n",
      " Records: 1,479,965\n",
      " Countries: 219\n"
     ]
    },
    {
     "name": "stdout",
     "output_type": "stream",
     "text": [
      " Products: 2341\n",
      " Total Value: AUD $1,031,293,072,667.00\n",
      "Total Weight: 2,780,691,054.60 tonnes\n"
     ]
    }
   ],
   "source": [
    "# Save the cleaned dataset with SITC and country mappings\n",
    "import os\n",
    "\n",
    "output_file = 'data/exports_cleaned.csv'\n",
    "df.to_csv(output_file, index=False)\n",
    "\n",
    "print(f\" Cleaned data saved to: {output_file}\")\n",
    "print(f\"Final dataset shape: {df.shape}\")\n",
    "print(f\"File size: {os.path.getsize(output_file) / 1024**2:.2f} MB\")\n",
    "\n",
    "# Final Summary\n",
    "print(f\"\\n DATA CLEANING COMPLETED WITH MAPPINGS!\")\n",
    "print(\"=\" * 50)\n",
    "print(f\" Records: {len(df):,}\")\n",
    "print(f\" Countries: {df['country_of_destination'].nunique()}\")\n",
    "print(f\" Products: {df['product_description'].nunique()}\")\n",
    "print(f\" Total Value: AUD ${df['value_fob_aud'].sum():,.2f}\")\n",
    "print(f\"Total Weight: {df['gross_weight_tonnes'].sum():,.2f} tonnes\")\n",
    "\n"
   ]
  },
  {
   "cell_type": "markdown",
   "metadata": {},
   "source": []
  },
  {
   "cell_type": "code",
   "execution_count": 22,
   "metadata": {
    "execution": {
     "iopub.execute_input": "2025-10-31T00:24:04.346586Z",
     "iopub.status.busy": "2025-10-31T00:24:04.346586Z",
     "iopub.status.idle": "2025-10-31T00:24:04.366970Z",
     "shell.execute_reply": "2025-10-31T00:24:04.366970Z"
    }
   },
   "outputs": [
    {
     "name": "stdout",
     "output_type": "stream",
     "text": [
      "=== PRODUCTS WITH SITC CODE 98888 ===\n",
      "Found 9,644 records with SITC code 98888\n",
      "\n",
      "Original product descriptions:\n",
      "product_description\n",
      "Special transactions and commodities not classified according to kind    9644\n",
      "Name: count, dtype: int64\n",
      "\n",
      "Total value for SITC 98888: $137.94B\n",
      "Total weight for SITC 98888: 196.32M tonnes\n",
      "\n",
      "Top 5 countries for SITC 98888:\n",
      "  Japan: $39.44B\n",
      "  China: $36.35B\n",
      "  Korea, Republic of (South): $15.08B\n",
      "  Singapore: $12.21B\n",
      "  No Country Details: $10.40B\n"
     ]
    }
   ],
   "source": [
    "# Check what products have SITC code 98888\n",
    "print(\"=== PRODUCTS WITH SITC CODE 98888 ===\")\n",
    "\n",
    "# Look at the original product descriptions for records with SITC code 98888\n",
    "sitc_98888_records = df[df['prod_descpt_code'] == 98888]\n",
    "\n",
    "if len(sitc_98888_records) > 0:\n",
    "    print(f\"Found {len(sitc_98888_records):,} records with SITC code 98888\")\n",
    "    print(\"\\nOriginal product descriptions:\")\n",
    "    original_descriptions = sitc_98888_records['product_description'].value_counts()\n",
    "    print(original_descriptions)\n",
    "    \n",
    "    print(f\"\\nTotal value for SITC 98888: ${sitc_98888_records['value_fob_aud'].sum()/1e9:.2f}B\")\n",
    "    print(f\"Total weight for SITC 98888: {sitc_98888_records['gross_weight_tonnes'].sum()/1e6:.2f}M tonnes\")\n",
    "    \n",
    "    print(\"\\nTop 5 countries for SITC 98888:\")\n",
    "    country_distribution = sitc_98888_records.groupby('country_of_destination')['value_fob_aud'].sum().sort_values(ascending=False).head()\n",
    "    for country, value in country_distribution.items():\n",
    "        print(f\"  {country}: ${value/1e9:.2f}B\")\n",
    "else:\n",
    "    print(\"No records found with SITC code 98888\")"
   ]
  },
  {
   "cell_type": "code",
   "execution_count": 23,
   "metadata": {
    "execution": {
     "iopub.execute_input": "2025-10-31T00:24:04.366970Z",
     "iopub.status.busy": "2025-10-31T00:24:04.366970Z",
     "iopub.status.idle": "2025-10-31T00:24:05.322637Z",
     "shell.execute_reply": "2025-10-31T00:24:05.322637Z"
    }
   },
   "outputs": [
    {
     "name": "stdout",
     "output_type": "stream",
     "text": [
      "=== FIXING COUNTRY CODE ISSUES ===\n"
     ]
    },
    {
     "name": "stdout",
     "output_type": "stream",
     "text": [
      "Found 0 records with 'Country Code XXX' entries\n",
      "No 'Country Code XXX' entries found!\n",
      "\n",
      "Country code fixing completed!\n"
     ]
    }
   ],
   "source": [
    "# FIX COUNTRY CODE ISSUES\n",
    "print(\"=== FIXING COUNTRY CODE ISSUES ===\")\n",
    "\n",
    "# Check for \"Country Code XXX\" entries\n",
    "country_code_entries = df[df['country_of_destination'].str.contains('Country Code', na=False)]\n",
    "print(f\"Found {len(country_code_entries):,} records with 'Country Code XXX' entries\")\n",
    "\n",
    "if len(country_code_entries) > 0:\n",
    "    print(\"\\nTop 10 Country Code entries:\")\n",
    "    country_code_counts = country_code_entries['country_of_destination'].value_counts().head(10)\n",
    "    for country_code, count in country_code_counts.items():\n",
    "        print(f\"  {country_code}: {count:,} records\")\n",
    "    \n",
    "    # Fix the country codes by extracting the code and mapping it properly\n",
    "    print(\"\\nFixing Country Code entries...\")\n",
    "    mask = df['country_of_destination'].str.contains('Country Code', na=False)\n",
    "    \n",
    "    # Extract the country code (remove \"Country Code \" prefix)\n",
    "    df.loc[mask, 'country_of_destination'] = df.loc[mask, 'country_of_destination'].str.replace('Country Code ', '')\n",
    "    \n",
    "    # Now apply proper mapping using the updated function\n",
    "    df.loc[mask, 'country_of_destination'] = df.loc[mask, 'country_of_destination'].apply(map_country_code_to_name)\n",
    "    \n",
    "    print(\" Country Code entries fixed!\")\n",
    "    \n",
    "    # Verify the fix\n",
    "    remaining_country_codes = df[df['country_of_destination'].str.contains('Country Code', na=False)]\n",
    "    print(f\"Remaining 'Country Code XXX' entries: {len(remaining_country_codes):,}\")\n",
    "    \n",
    "    if len(remaining_country_codes) == 0:\n",
    "        print(\"All Country Code entries have been successfully mapped!\")\n",
    "    else:\n",
    "        print(\"\\nRemaining entries:\")\n",
    "        for country_code, count in remaining_country_codes['country_of_destination'].value_counts().items():\n",
    "            print(f\"  {country_code}: {count:,} records\")\n",
    "else:\n",
    "    print(\"No 'Country Code XXX' entries found!\")\n",
    "\n",
    "print(\"\\nCountry code fixing completed!\")\n"
   ]
  },
  {
   "cell_type": "code",
   "execution_count": 24,
   "metadata": {
    "execution": {
     "iopub.execute_input": "2025-10-31T00:24:05.322637Z",
     "iopub.status.busy": "2025-10-31T00:24:05.322637Z",
     "iopub.status.idle": "2025-10-31T00:24:31.751147Z",
     "shell.execute_reply": "2025-10-31T00:24:31.751147Z"
    }
   },
   "outputs": [
    {
     "name": "stdout",
     "output_type": "stream",
     "text": [
      "=== SAVING CLEANED DATA ===\n"
     ]
    },
    {
     "name": "stdout",
     "output_type": "stream",
     "text": [
      "Cleaned data saved to: data/exports_cleaned.csv\n",
      "Total records saved: 1,479,965\n",
      "Total unique countries: 219\n"
     ]
    }
   ],
   "source": [
    "# SAVE CLEANED DATA WITH FIXED COUNTRY CODES\n",
    "print(\"=== SAVING CLEANED DATA ===\")\n",
    "\n",
    "# Save the cleaned data with fixed country codes\n",
    "output_file = 'data/exports_cleaned.csv'\n",
    "df.to_csv(output_file, index=False)\n",
    "\n",
    "print(f\"Cleaned data saved to: {output_file}\")\n",
    "print(f\"Total records saved: {len(df):,}\")\n",
    "print(f\"Total unique countries: {df['country_of_destination'].nunique():,}\")\n",
    "\n"
   ]
  }
 ],
 "metadata": {
  "kernelspec": {
   "display_name": "base",
   "language": "python",
   "name": "python3"
  },
  "language_info": {
   "codemirror_mode": {
    "name": "ipython",
    "version": 3
   },
   "file_extension": ".py",
   "mimetype": "text/x-python",
   "name": "python",
   "nbconvert_exporter": "python",
   "pygments_lexer": "ipython3",
   "version": "3.11.0"
  }
 },
 "nbformat": 4,
 "nbformat_minor": 2
}
